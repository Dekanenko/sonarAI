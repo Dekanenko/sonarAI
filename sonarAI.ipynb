{
 "cells": [
  {
   "cell_type": "code",
   "execution_count": 1,
   "id": "db51528a",
   "metadata": {},
   "outputs": [],
   "source": [
    "import tensorflow as tf\n",
    "tf.config.experimental.set_visible_devices([], 'GPU') \n",
    "from tensorflow import keras\n",
    "from tensorflow.keras.layers import Dense\n",
    "from tensorflow.keras.layers import InputLayer\n",
    "import pandas as pd\n",
    "import numpy as np\n",
    "# link to csv file : https://drive.google.com/file/d/1pQxtljlNVh0DHYg-Ye7dtpDTlFceHVfa/view"
   ]
  },
  {
   "cell_type": "code",
   "execution_count": 2,
   "id": "9d9a5275",
   "metadata": {},
   "outputs": [],
   "source": [
    "data = pd.read_csv('sonar_data.csv')"
   ]
  },
  {
   "cell_type": "code",
   "execution_count": 3,
   "id": "e9da5d3e",
   "metadata": {},
   "outputs": [],
   "source": [
    "data = pd.DataFrame(data).to_numpy()\n",
    "np.random.shuffle(data)"
   ]
  },
  {
   "cell_type": "code",
   "execution_count": 4,
   "id": "65afff52",
   "metadata": {},
   "outputs": [
    {
     "name": "stdout",
     "output_type": "stream",
     "text": [
      "(61,)\n"
     ]
    }
   ],
   "source": [
    "print(data[0].shape)"
   ]
  },
  {
   "cell_type": "code",
   "execution_count": 5,
   "id": "ba3cc2fe",
   "metadata": {},
   "outputs": [],
   "source": [
    "x = data[:, :-1]\n",
    "y = data[:, -1]"
   ]
  },
  {
   "cell_type": "code",
   "execution_count": 6,
   "id": "a50e13a5",
   "metadata": {},
   "outputs": [
    {
     "name": "stdout",
     "output_type": "stream",
     "text": [
      "(207, 60)\n",
      "M\n"
     ]
    }
   ],
   "source": [
    "print(x.shape)\n",
    "print(y[0])"
   ]
  },
  {
   "cell_type": "code",
   "execution_count": 7,
   "id": "c6e641a5",
   "metadata": {},
   "outputs": [],
   "source": [
    "x = np.array(x, dtype=np.float32)\n",
    "y = np.array([out == 'M' for out in (y)], dtype=np.float32)"
   ]
  },
  {
   "cell_type": "code",
   "execution_count": 8,
   "id": "69bb8532",
   "metadata": {},
   "outputs": [],
   "source": [
    "x_train, x_test = x[:160, :], x[160:, :]\n",
    "y_train, y_test = y[:160], y[160:]"
   ]
  },
  {
   "cell_type": "code",
   "execution_count": 9,
   "id": "b01844e7",
   "metadata": {},
   "outputs": [
    {
     "name": "stdout",
     "output_type": "stream",
     "text": [
      "60\n",
      "[0.043  0.0902 0.0833 0.0813 0.0165 0.0277 0.0569 0.2057 0.3887 0.7106\n",
      " 0.7342 0.5033 0.3    0.1951 0.2767 0.3737 0.2507 0.2507 0.3292 0.4871\n",
      " 0.6527 0.8454 0.9739 1.     0.6665 0.5323 0.4024 0.3444 0.4239 0.4182\n",
      " 0.4393 0.1162 0.4336 0.6553 0.6172 0.4373 0.4118 0.3641 0.4572 0.4367\n",
      " 0.2964 0.4312 0.4155 0.1824 0.1487 0.0138 0.1164 0.2052 0.1069 0.0199\n",
      " 0.0208 0.0176 0.0197 0.021  0.0141 0.0049 0.0027 0.0162 0.0059 0.0021]\n"
     ]
    }
   ],
   "source": [
    "print(x_train[0].shape[0])\n",
    "print(x_train[0])"
   ]
  },
  {
   "cell_type": "code",
   "execution_count": 25,
   "id": "a4eeef86",
   "metadata": {},
   "outputs": [
    {
     "name": "stdout",
     "output_type": "stream",
     "text": [
      "Model: \"sequential_4\"\n",
      "_________________________________________________________________\n",
      " Layer (type)                Output Shape              Param #   \n",
      "=================================================================\n",
      " dense_8 (Dense)             (None, 10)                610       \n",
      "                                                                 \n",
      " dense_9 (Dense)             (None, 1)                 11        \n",
      "                                                                 \n",
      "=================================================================\n",
      "Total params: 621\n",
      "Trainable params: 621\n",
      "Non-trainable params: 0\n",
      "_________________________________________________________________\n",
      "None\n"
     ]
    }
   ],
   "source": [
    "model = tf.keras.Sequential([\n",
    "    InputLayer(input_shape=(x_train[0].shape)),\n",
    "    Dense(10, activation=\"relu\"),\n",
    "    Dense(1, activation=\"sigmoid\")\n",
    "])\n",
    "print(model.summary())"
   ]
  },
  {
   "cell_type": "code",
   "execution_count": 26,
   "id": "bebd4c6d",
   "metadata": {},
   "outputs": [],
   "source": [
    "opt = tf.optimizers.Adam(learning_rate=0.007)\n",
    "model.compile(optimizer=opt,\n",
    "                 loss='binary_crossentropy',\n",
    "                 metrics=['accuracy'])"
   ]
  },
  {
   "cell_type": "code",
   "execution_count": 27,
   "id": "6792e8c3",
   "metadata": {},
   "outputs": [
    {
     "name": "stdout",
     "output_type": "stream",
     "text": [
      "Epoch 1/150\n",
      "5/5 [==============================] - 0s 609us/step - loss: 0.7221 - accuracy: 0.4187\n",
      "Epoch 2/150\n",
      "5/5 [==============================] - 0s 533us/step - loss: 0.6920 - accuracy: 0.5312\n",
      "Epoch 3/150\n",
      "5/5 [==============================] - 0s 603us/step - loss: 0.6781 - accuracy: 0.5188\n",
      "Epoch 4/150\n",
      "5/5 [==============================] - 0s 758us/step - loss: 0.6649 - accuracy: 0.6062\n",
      "Epoch 5/150\n",
      "5/5 [==============================] - 0s 813us/step - loss: 0.6497 - accuracy: 0.6938\n",
      "Epoch 6/150\n",
      "5/5 [==============================] - 0s 726us/step - loss: 0.6365 - accuracy: 0.7000\n",
      "Epoch 7/150\n",
      "5/5 [==============================] - 0s 704us/step - loss: 0.6247 - accuracy: 0.7000\n",
      "Epoch 8/150\n",
      "5/5 [==============================] - 0s 635us/step - loss: 0.6087 - accuracy: 0.7125\n",
      "Epoch 9/150\n",
      "5/5 [==============================] - 0s 739us/step - loss: 0.5948 - accuracy: 0.7250\n",
      "Epoch 10/150\n",
      "5/5 [==============================] - 0s 636us/step - loss: 0.5772 - accuracy: 0.7375\n",
      "Epoch 11/150\n",
      "5/5 [==============================] - 0s 626us/step - loss: 0.5631 - accuracy: 0.7437\n",
      "Epoch 12/150\n",
      "5/5 [==============================] - 0s 560us/step - loss: 0.5457 - accuracy: 0.7375\n",
      "Epoch 13/150\n",
      "5/5 [==============================] - 0s 704us/step - loss: 0.5311 - accuracy: 0.7875\n",
      "Epoch 14/150\n",
      "5/5 [==============================] - 0s 674us/step - loss: 0.5166 - accuracy: 0.8125\n",
      "Epoch 15/150\n",
      "5/5 [==============================] - 0s 603us/step - loss: 0.5021 - accuracy: 0.7812\n",
      "Epoch 16/150\n",
      "5/5 [==============================] - 0s 595us/step - loss: 0.4909 - accuracy: 0.7750\n",
      "Epoch 17/150\n",
      "5/5 [==============================] - 0s 720us/step - loss: 0.4786 - accuracy: 0.8125\n",
      "Epoch 18/150\n",
      "5/5 [==============================] - 0s 670us/step - loss: 0.4687 - accuracy: 0.8188\n",
      "Epoch 19/150\n",
      "5/5 [==============================] - 0s 553us/step - loss: 0.4575 - accuracy: 0.8313\n",
      "Epoch 20/150\n",
      "5/5 [==============================] - 0s 520us/step - loss: 0.4501 - accuracy: 0.8188\n",
      "Epoch 21/150\n",
      "5/5 [==============================] - 0s 537us/step - loss: 0.4399 - accuracy: 0.8188\n",
      "Epoch 22/150\n",
      "5/5 [==============================] - 0s 781us/step - loss: 0.4321 - accuracy: 0.7937\n",
      "Epoch 23/150\n",
      "5/5 [==============================] - 0s 537us/step - loss: 0.4249 - accuracy: 0.8188\n",
      "Epoch 24/150\n",
      "5/5 [==============================] - 0s 563us/step - loss: 0.4213 - accuracy: 0.8375\n",
      "Epoch 25/150\n",
      "5/5 [==============================] - 0s 614us/step - loss: 0.4097 - accuracy: 0.8375\n",
      "Epoch 26/150\n",
      "5/5 [==============================] - 0s 742us/step - loss: 0.4062 - accuracy: 0.8625\n",
      "Epoch 27/150\n",
      "5/5 [==============================] - 0s 618us/step - loss: 0.3981 - accuracy: 0.8125\n",
      "Epoch 28/150\n",
      "5/5 [==============================] - 0s 529us/step - loss: 0.3907 - accuracy: 0.8313\n",
      "Epoch 29/150\n",
      "5/5 [==============================] - 0s 590us/step - loss: 0.3919 - accuracy: 0.8438\n",
      "Epoch 30/150\n",
      "5/5 [==============================] - 0s 770us/step - loss: 0.3806 - accuracy: 0.8438\n",
      "Epoch 31/150\n",
      "5/5 [==============================] - 0s 569us/step - loss: 0.3768 - accuracy: 0.8313\n",
      "Epoch 32/150\n",
      "5/5 [==============================] - 0s 567us/step - loss: 0.3769 - accuracy: 0.8375\n",
      "Epoch 33/150\n",
      "5/5 [==============================] - 0s 562us/step - loss: 0.3675 - accuracy: 0.8500\n",
      "Epoch 34/150\n",
      "5/5 [==============================] - 0s 684us/step - loss: 0.3717 - accuracy: 0.8125\n",
      "Epoch 35/150\n",
      "5/5 [==============================] - 0s 626us/step - loss: 0.3563 - accuracy: 0.8500\n",
      "Epoch 36/150\n",
      "5/5 [==============================] - 0s 522us/step - loss: 0.3621 - accuracy: 0.8438\n",
      "Epoch 37/150\n",
      "5/5 [==============================] - 0s 551us/step - loss: 0.3649 - accuracy: 0.8313\n",
      "Epoch 38/150\n",
      "5/5 [==============================] - 0s 513us/step - loss: 0.3592 - accuracy: 0.8125\n",
      "Epoch 39/150\n",
      "5/5 [==============================] - 0s 736us/step - loss: 0.3549 - accuracy: 0.8438\n",
      "Epoch 40/150\n",
      "5/5 [==============================] - 0s 552us/step - loss: 0.3479 - accuracy: 0.8562\n",
      "Epoch 41/150\n",
      "5/5 [==============================] - 0s 553us/step - loss: 0.3444 - accuracy: 0.8687\n",
      "Epoch 42/150\n",
      "5/5 [==============================] - 0s 553us/step - loss: 0.3381 - accuracy: 0.8625\n",
      "Epoch 43/150\n",
      "5/5 [==============================] - 0s 549us/step - loss: 0.3453 - accuracy: 0.8313\n",
      "Epoch 44/150\n",
      "5/5 [==============================] - 0s 647us/step - loss: 0.3368 - accuracy: 0.8562\n",
      "Epoch 45/150\n",
      "5/5 [==============================] - 0s 753us/step - loss: 0.3307 - accuracy: 0.8687\n",
      "Epoch 46/150\n",
      "5/5 [==============================] - 0s 539us/step - loss: 0.3372 - accuracy: 0.8625\n",
      "Epoch 47/150\n",
      "5/5 [==============================] - 0s 693us/step - loss: 0.3225 - accuracy: 0.8813\n",
      "Epoch 48/150\n",
      "5/5 [==============================] - 0s 671us/step - loss: 0.3231 - accuracy: 0.8687\n",
      "Epoch 49/150\n",
      "5/5 [==============================] - 0s 573us/step - loss: 0.3207 - accuracy: 0.8687\n",
      "Epoch 50/150\n",
      "5/5 [==============================] - 0s 556us/step - loss: 0.3174 - accuracy: 0.8813\n",
      "Epoch 51/150\n",
      "5/5 [==============================] - 0s 580us/step - loss: 0.3152 - accuracy: 0.8875\n",
      "Epoch 52/150\n",
      "5/5 [==============================] - 0s 566us/step - loss: 0.3163 - accuracy: 0.8750\n",
      "Epoch 53/150\n",
      "5/5 [==============================] - 0s 561us/step - loss: 0.3134 - accuracy: 0.8625\n",
      "Epoch 54/150\n",
      "5/5 [==============================] - 0s 508us/step - loss: 0.3063 - accuracy: 0.8875\n",
      "Epoch 55/150\n",
      "5/5 [==============================] - 0s 520us/step - loss: 0.3085 - accuracy: 0.8875\n",
      "Epoch 56/150\n",
      "5/5 [==============================] - 0s 535us/step - loss: 0.3015 - accuracy: 0.8938\n",
      "Epoch 57/150\n",
      "5/5 [==============================] - 0s 491us/step - loss: 0.3013 - accuracy: 0.8813\n",
      "Epoch 58/150\n",
      "5/5 [==============================] - 0s 579us/step - loss: 0.3011 - accuracy: 0.8875\n",
      "Epoch 59/150\n",
      "5/5 [==============================] - 0s 709us/step - loss: 0.2965 - accuracy: 0.8938\n",
      "Epoch 60/150\n",
      "5/5 [==============================] - 0s 573us/step - loss: 0.3019 - accuracy: 0.8813\n",
      "Epoch 61/150\n",
      "5/5 [==============================] - 0s 552us/step - loss: 0.2898 - accuracy: 0.8875\n",
      "Epoch 62/150\n",
      "5/5 [==============================] - 0s 558us/step - loss: 0.2920 - accuracy: 0.9000\n",
      "Epoch 63/150\n",
      "5/5 [==============================] - 0s 520us/step - loss: 0.2933 - accuracy: 0.8938\n",
      "Epoch 64/150\n",
      "5/5 [==============================] - 0s 526us/step - loss: 0.2844 - accuracy: 0.8938\n",
      "Epoch 65/150\n",
      "5/5 [==============================] - 0s 496us/step - loss: 0.2944 - accuracy: 0.9000\n",
      "Epoch 66/150\n",
      "5/5 [==============================] - 0s 513us/step - loss: 0.2868 - accuracy: 0.8875\n",
      "Epoch 67/150\n",
      "5/5 [==============================] - 0s 587us/step - loss: 0.2814 - accuracy: 0.8875\n",
      "Epoch 68/150\n",
      "5/5 [==============================] - 0s 600us/step - loss: 0.2767 - accuracy: 0.9000\n",
      "Epoch 69/150\n",
      "5/5 [==============================] - 0s 523us/step - loss: 0.2780 - accuracy: 0.9187\n",
      "Epoch 70/150\n",
      "5/5 [==============================] - 0s 519us/step - loss: 0.2758 - accuracy: 0.9000\n",
      "Epoch 71/150\n",
      "5/5 [==============================] - 0s 508us/step - loss: 0.2793 - accuracy: 0.9000\n",
      "Epoch 72/150\n",
      "5/5 [==============================] - 0s 710us/step - loss: 0.2792 - accuracy: 0.9000\n",
      "Epoch 73/150\n",
      "5/5 [==============================] - 0s 531us/step - loss: 0.2696 - accuracy: 0.9000\n",
      "Epoch 74/150\n",
      "5/5 [==============================] - 0s 515us/step - loss: 0.2739 - accuracy: 0.9000\n",
      "Epoch 75/150\n",
      "5/5 [==============================] - 0s 516us/step - loss: 0.2650 - accuracy: 0.9125\n",
      "Epoch 76/150\n",
      "5/5 [==============================] - 0s 772us/step - loss: 0.2677 - accuracy: 0.9125\n",
      "Epoch 77/150\n",
      "5/5 [==============================] - 0s 588us/step - loss: 0.2659 - accuracy: 0.9000\n",
      "Epoch 78/150\n",
      "5/5 [==============================] - 0s 543us/step - loss: 0.2604 - accuracy: 0.9125\n",
      "Epoch 79/150\n",
      "5/5 [==============================] - 0s 559us/step - loss: 0.2655 - accuracy: 0.9062\n",
      "Epoch 80/150\n",
      "5/5 [==============================] - 0s 486us/step - loss: 0.2625 - accuracy: 0.9187\n",
      "Epoch 81/150\n",
      "5/5 [==============================] - 0s 552us/step - loss: 0.2594 - accuracy: 0.8938\n",
      "Epoch 82/150\n",
      "5/5 [==============================] - 0s 534us/step - loss: 0.2555 - accuracy: 0.8938\n",
      "Epoch 83/150\n"
     ]
    },
    {
     "name": "stdout",
     "output_type": "stream",
     "text": [
      "5/5 [==============================] - 0s 542us/step - loss: 0.2555 - accuracy: 0.9062\n",
      "Epoch 84/150\n",
      "5/5 [==============================] - 0s 675us/step - loss: 0.2499 - accuracy: 0.9125\n",
      "Epoch 85/150\n",
      "5/5 [==============================] - 0s 546us/step - loss: 0.2485 - accuracy: 0.9125\n",
      "Epoch 86/150\n",
      "5/5 [==============================] - 0s 495us/step - loss: 0.2497 - accuracy: 0.9062\n",
      "Epoch 87/150\n",
      "5/5 [==============================] - 0s 535us/step - loss: 0.2438 - accuracy: 0.9125\n",
      "Epoch 88/150\n",
      "5/5 [==============================] - 0s 524us/step - loss: 0.2427 - accuracy: 0.9187\n",
      "Epoch 89/150\n",
      "5/5 [==============================] - 0s 710us/step - loss: 0.2426 - accuracy: 0.9187\n",
      "Epoch 90/150\n",
      "5/5 [==============================] - 0s 569us/step - loss: 0.2401 - accuracy: 0.9125\n",
      "Epoch 91/150\n",
      "5/5 [==============================] - 0s 556us/step - loss: 0.2376 - accuracy: 0.9187\n",
      "Epoch 92/150\n",
      "5/5 [==============================] - 0s 708us/step - loss: 0.2375 - accuracy: 0.9125\n",
      "Epoch 93/150\n",
      "5/5 [==============================] - 0s 577us/step - loss: 0.2341 - accuracy: 0.9187\n",
      "Epoch 94/150\n",
      "5/5 [==============================] - 0s 554us/step - loss: 0.2353 - accuracy: 0.9250\n",
      "Epoch 95/150\n",
      "5/5 [==============================] - 0s 522us/step - loss: 0.2402 - accuracy: 0.9125\n",
      "Epoch 96/150\n",
      "5/5 [==============================] - 0s 533us/step - loss: 0.2345 - accuracy: 0.9187\n",
      "Epoch 97/150\n",
      "5/5 [==============================] - 0s 675us/step - loss: 0.2276 - accuracy: 0.9125\n",
      "Epoch 98/150\n",
      "5/5 [==============================] - 0s 556us/step - loss: 0.2308 - accuracy: 0.9125\n",
      "Epoch 99/150\n",
      "5/5 [==============================] - 0s 578us/step - loss: 0.2287 - accuracy: 0.9125\n",
      "Epoch 100/150\n",
      "5/5 [==============================] - 0s 545us/step - loss: 0.2239 - accuracy: 0.9187\n",
      "Epoch 101/150\n",
      "5/5 [==============================] - 0s 599us/step - loss: 0.2245 - accuracy: 0.9125\n",
      "Epoch 102/150\n",
      "5/5 [==============================] - 0s 549us/step - loss: 0.2269 - accuracy: 0.9187\n",
      "Epoch 103/150\n",
      "5/5 [==============================] - 0s 530us/step - loss: 0.2209 - accuracy: 0.9187\n",
      "Epoch 104/150\n",
      "5/5 [==============================] - 0s 566us/step - loss: 0.2208 - accuracy: 0.9312\n",
      "Epoch 105/150\n",
      "5/5 [==============================] - 0s 682us/step - loss: 0.2180 - accuracy: 0.9125\n",
      "Epoch 106/150\n",
      "5/5 [==============================] - 0s 701us/step - loss: 0.2163 - accuracy: 0.9187\n",
      "Epoch 107/150\n",
      "5/5 [==============================] - 0s 582us/step - loss: 0.2177 - accuracy: 0.9125\n",
      "Epoch 108/150\n",
      "5/5 [==============================] - 0s 548us/step - loss: 0.2127 - accuracy: 0.9187\n",
      "Epoch 109/150\n",
      "5/5 [==============================] - 0s 541us/step - loss: 0.2130 - accuracy: 0.9375\n",
      "Epoch 110/150\n",
      "5/5 [==============================] - 0s 590us/step - loss: 0.2129 - accuracy: 0.9125\n",
      "Epoch 111/150\n",
      "5/5 [==============================] - 0s 575us/step - loss: 0.2076 - accuracy: 0.9187\n",
      "Epoch 112/150\n",
      "5/5 [==============================] - 0s 614us/step - loss: 0.2099 - accuracy: 0.9187\n",
      "Epoch 113/150\n",
      "5/5 [==============================] - 0s 525us/step - loss: 0.2112 - accuracy: 0.9312\n",
      "Epoch 114/150\n",
      "5/5 [==============================] - 0s 543us/step - loss: 0.2148 - accuracy: 0.9250\n",
      "Epoch 115/150\n",
      "5/5 [==============================] - 0s 593us/step - loss: 0.2024 - accuracy: 0.9312\n",
      "Epoch 116/150\n",
      "5/5 [==============================] - 0s 583us/step - loss: 0.2143 - accuracy: 0.9250\n",
      "Epoch 117/150\n",
      "5/5 [==============================] - 0s 563us/step - loss: 0.2029 - accuracy: 0.9187\n",
      "Epoch 118/150\n",
      "5/5 [==============================] - 0s 484us/step - loss: 0.2010 - accuracy: 0.9312\n",
      "Epoch 119/150\n",
      "5/5 [==============================] - 0s 577us/step - loss: 0.2053 - accuracy: 0.9375\n",
      "Epoch 120/150\n",
      "5/5 [==============================] - 0s 534us/step - loss: 0.2022 - accuracy: 0.9250\n",
      "Epoch 121/150\n",
      "5/5 [==============================] - 0s 642us/step - loss: 0.1963 - accuracy: 0.9375\n",
      "Epoch 122/150\n",
      "5/5 [==============================] - 0s 498us/step - loss: 0.1970 - accuracy: 0.9250\n",
      "Epoch 123/150\n",
      "5/5 [==============================] - 0s 554us/step - loss: 0.1983 - accuracy: 0.9312\n",
      "Epoch 124/150\n",
      "5/5 [==============================] - 0s 526us/step - loss: 0.1941 - accuracy: 0.9312\n",
      "Epoch 125/150\n",
      "5/5 [==============================] - 0s 507us/step - loss: 0.1977 - accuracy: 0.9312\n",
      "Epoch 126/150\n",
      "5/5 [==============================] - 0s 652us/step - loss: 0.1851 - accuracy: 0.9375\n",
      "Epoch 127/150\n",
      "5/5 [==============================] - 0s 480us/step - loss: 0.1910 - accuracy: 0.9312\n",
      "Epoch 128/150\n",
      "5/5 [==============================] - 0s 551us/step - loss: 0.1855 - accuracy: 0.9312\n",
      "Epoch 129/150\n",
      "5/5 [==============================] - 0s 584us/step - loss: 0.1842 - accuracy: 0.9250\n",
      "Epoch 130/150\n",
      "5/5 [==============================] - 0s 581us/step - loss: 0.1820 - accuracy: 0.9312\n",
      "Epoch 131/150\n",
      "5/5 [==============================] - 0s 646us/step - loss: 0.1828 - accuracy: 0.9312\n",
      "Epoch 132/150\n",
      "5/5 [==============================] - 0s 483us/step - loss: 0.1798 - accuracy: 0.9312\n",
      "Epoch 133/150\n",
      "5/5 [==============================] - 0s 558us/step - loss: 0.1807 - accuracy: 0.9375\n",
      "Epoch 134/150\n",
      "5/5 [==============================] - 0s 577us/step - loss: 0.1867 - accuracy: 0.9312\n",
      "Epoch 135/150\n",
      "5/5 [==============================] - 0s 553us/step - loss: 0.1739 - accuracy: 0.9375\n",
      "Epoch 136/150\n",
      "5/5 [==============================] - 0s 561us/step - loss: 0.1858 - accuracy: 0.9250\n",
      "Epoch 137/150\n",
      "5/5 [==============================] - 0s 498us/step - loss: 0.1748 - accuracy: 0.9312\n",
      "Epoch 138/150\n",
      "5/5 [==============================] - 0s 611us/step - loss: 0.1739 - accuracy: 0.9375\n",
      "Epoch 139/150\n",
      "5/5 [==============================] - 0s 525us/step - loss: 0.1722 - accuracy: 0.9375\n",
      "Epoch 140/150\n",
      "5/5 [==============================] - 0s 512us/step - loss: 0.1721 - accuracy: 0.9312\n",
      "Epoch 141/150\n",
      "5/5 [==============================] - 0s 605us/step - loss: 0.1692 - accuracy: 0.9375\n",
      "Epoch 142/150\n",
      "5/5 [==============================] - 0s 535us/step - loss: 0.1704 - accuracy: 0.9625\n",
      "Epoch 143/150\n",
      "5/5 [==============================] - 0s 518us/step - loss: 0.1757 - accuracy: 0.9312\n",
      "Epoch 144/150\n",
      "5/5 [==============================] - 0s 525us/step - loss: 0.1669 - accuracy: 0.9500\n",
      "Epoch 145/150\n",
      "5/5 [==============================] - 0s 669us/step - loss: 0.1675 - accuracy: 0.9312\n",
      "Epoch 146/150\n",
      "5/5 [==============================] - 0s 546us/step - loss: 0.1649 - accuracy: 0.9312\n",
      "Epoch 147/150\n",
      "5/5 [==============================] - 0s 531us/step - loss: 0.1684 - accuracy: 0.9500\n",
      "Epoch 148/150\n",
      "5/5 [==============================] - 0s 484us/step - loss: 0.1608 - accuracy: 0.9375\n",
      "Epoch 149/150\n",
      "5/5 [==============================] - 0s 630us/step - loss: 0.1617 - accuracy: 0.9438\n",
      "Epoch 150/150\n",
      "5/5 [==============================] - 0s 476us/step - loss: 0.1667 - accuracy: 0.9500\n"
     ]
    },
    {
     "data": {
      "text/plain": [
       "<keras.callbacks.History at 0x169de86a0>"
      ]
     },
     "execution_count": 27,
     "metadata": {},
     "output_type": "execute_result"
    }
   ],
   "source": [
    "model.fit(x_train, y_train, epochs=150)"
   ]
  },
  {
   "cell_type": "code",
   "execution_count": 28,
   "id": "e5c146f1",
   "metadata": {},
   "outputs": [
    {
     "name": "stdout",
     "output_type": "stream",
     "text": [
      "2/2 [==============================] - 0s 877us/step - loss: 0.5557 - accuracy: 0.8511\n"
     ]
    }
   ],
   "source": [
    "score = model.evaluate(x_test, y_test)"
   ]
  },
  {
   "cell_type": "code",
   "execution_count": null,
   "id": "fab95360",
   "metadata": {},
   "outputs": [],
   "source": []
  }
 ],
 "metadata": {
  "kernelspec": {
   "display_name": "Python 3 (ipykernel)",
   "language": "python",
   "name": "python3"
  },
  "language_info": {
   "codemirror_mode": {
    "name": "ipython",
    "version": 3
   },
   "file_extension": ".py",
   "mimetype": "text/x-python",
   "name": "python",
   "nbconvert_exporter": "python",
   "pygments_lexer": "ipython3",
   "version": "3.9.5"
  }
 },
 "nbformat": 4,
 "nbformat_minor": 5
}
